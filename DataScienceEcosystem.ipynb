{
 "cells": [
  {
   "cell_type": "markdown",
   "id": "788616e0",
   "metadata": {},
   "source": [
    "# Data Science Tools and Ecosystem"
   ]
  },
  {
   "cell_type": "markdown",
   "id": "bb97530f",
   "metadata": {},
   "source": [
    "## In this notebook, Data Science Tools and Ecosystem are summarized."
   ]
  },
  {
   "cell_type": "markdown",
   "id": "b7842883",
   "metadata": {},
   "source": [
    "**Objectives**:\n",
    "- List popular languages in Data Science\n",
    "- List of libraries in Data Science\n",
    "- List of tool in Data Science\n",
    "- Evaluate arithmetic expression in Python"
   ]
  },
  {
   "cell_type": "markdown",
   "id": "541c6cc5",
   "metadata": {},
   "source": [
    "Some of the popular languages that Data Scientists use are:\n",
    "1. Python\n",
    "2. R\n",
    "3. SQL\n",
    "4. Java"
   ]
  },
  {
   "cell_type": "markdown",
   "id": "a4682f47",
   "metadata": {},
   "source": [
    "Some of the commonly used libraries used by Data Scientists include:\n",
    "1. Numpy\n",
    "2. Pandas\n",
    "3. Keras\n",
    "4. Matplotlib"
   ]
  },
  {
   "cell_type": "markdown",
   "id": "417a9875",
   "metadata": {},
   "source": [
    "|Data Sciense Tool|\n",
    "|-----------------|\n",
    "|RStudio|\n",
    "|Anaconda|\n",
    "|Git|"
   ]
  },
  {
   "cell_type": "markdown",
   "id": "0d2d8856",
   "metadata": {},
   "source": [
    "### Below are a few examples of evaluating arithmetic expressions in Python"
   ]
  },
  {
   "cell_type": "code",
   "execution_count": 1,
   "id": "714c7028",
   "metadata": {},
   "outputs": [
    {
     "data": {
      "text/plain": [
       "17"
      ]
     },
     "execution_count": 1,
     "metadata": {},
     "output_type": "execute_result"
    }
   ],
   "source": [
    "# This a arithmetic expression to mutiply and then to add integers\n",
    "(3*4)+5"
   ]
  },
  {
   "cell_type": "code",
   "execution_count": 13,
   "id": "89cb7017",
   "metadata": {},
   "outputs": [
    {
     "name": "stdout",
     "output_type": "stream",
     "text": [
      "200 minutes is 3.3333333333333335 hours\n"
     ]
    }
   ],
   "source": [
    "# Convert 200 minutes to hours by diving by 60\n",
    "h=200/60\n",
    "print('200 minutes is', h, 'hours')"
   ]
  },
  {
   "cell_type": "markdown",
   "id": "3576573d",
   "metadata": {},
   "source": [
    "## Author:\n",
    "Sheng-Chi Shih"
   ]
  },
  {
   "cell_type": "code",
   "execution_count": null,
   "id": "b47d4603",
   "metadata": {},
   "outputs": [],
   "source": []
  }
 ],
 "metadata": {
  "kernelspec": {
   "display_name": "Python 3 (ipykernel)",
   "language": "python",
   "name": "python3"
  },
  "language_info": {
   "codemirror_mode": {
    "name": "ipython",
    "version": 3
   },
   "file_extension": ".py",
   "mimetype": "text/x-python",
   "name": "python",
   "nbconvert_exporter": "python",
   "pygments_lexer": "ipython3",
   "version": "3.11.5"
  }
 },
 "nbformat": 4,
 "nbformat_minor": 5
}
